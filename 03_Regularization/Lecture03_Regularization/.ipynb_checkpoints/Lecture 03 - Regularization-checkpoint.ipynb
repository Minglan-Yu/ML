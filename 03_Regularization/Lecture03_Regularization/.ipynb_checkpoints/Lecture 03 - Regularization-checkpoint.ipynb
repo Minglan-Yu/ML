{
 "cells": [
  {
   "cell_type": "markdown",
   "metadata": {},
   "source": [
    "# Cross Validation and Training, Validation, Testing Data Sets\n",
    "\n",
    "* Since we can (often, easily) overfit, our error or prediction performance on a training data set is not a good indication of performance on unknown test data.  \n",
    "* One way estimate test performance of a system on unknown test data is to use some of the training data for training and some for validation (to act like unknown test data). \n",
    "* If you are repeatedly changing your model/adjusting parameters/tweaking your algorithm, you may even over fit the hold-out validation set.  So, you can hold out yet another set for testing. \n",
    "* However, in general, we only have a limited amount of training data. So, we want to use as much of it as possible for training.  One strategy to balance the tradeoff between needing training data and validation data is to use cross-validation.\n",
    "* Cross-validation can also give an indication of stability/robustness of your method. \n",
    "* However there are downsides to cross-validation: need to train many times (which can sometimes be very computationally complex.), and you end up with several models - how do you pick the final one to use?\n",
    " \n",
    "* For further reading and reference: Simon Haykin. Neural Networks A Comprehensive Foundation"
   ]
  },
  {
   "cell_type": "markdown",
   "metadata": {},
   "source": [
    "# Regularization"
   ]
  },
  {
   "cell_type": "markdown",
   "metadata": {},
   "source": [
    "* Two common approaches to avoid overfitting:\n",
    "    1. More data: As you have more and more data, it becomes more and more difficult to ``memorize'' the data and its noise. Often, more data translates to the ability to use a more complex model and avoid overfitting.  However, generally, you need exponentially more data with increases to model complexity.  So, there is a limit to how much this helps.  If you have a very complex model, you need a huge training data set. \n",
    "    2. Regularization: Regularization methods add a penalty term to the error function to discourage overfitting.  These penalty terms encourage small values limiting the ability to overfit.   These penalty terms are a way to trade-off between error and complexity.  \n",
    "\n",
    "\n",
    "\\begin{eqnarray}\n",
    "E^{\\ast}(\\mathbf{w}) &=& \\frac{1}{2}\\sum_{n=1}^N \\left( y(x_n, \\mathbf{w}) - t_n \\right)^2 + \\frac{\\lambda}{2}\\left\\| \\mathbf{w} \\right\\|^2_2\\\\\n",
    "&=& \\frac{1}{2}\\left(\\mathbf{w}^T\\mathbf{X}^T - \\mathbf{t}^T\\right)\\left(\\mathbf{w}^T\\mathbf{X}^T - \\mathbf{t}^T\\right)^T + \\frac{\\lambda}{2}\\mathbf{w}^T\\mathbf{w}\\\\\n",
    "&=& \\frac{1}{2}\\left\\| \\mathbf{w}^T\\mathbf{X}^T - \\mathbf{t}^T\\right\\|_2^2 + \\frac{\\lambda}{2}\\left\\| \\mathbf{w}\\right\\|_2^2\n",
    "\\end{eqnarray}\n",
    "\n",
    "* *What does each term mean/promote in the minimization? Why does the second term make sense for minimizing complexity?*"
   ]
  },
  {
   "cell_type": "markdown",
   "metadata": {},
   "source": [
    "\\begin{eqnarray}\n",
    "E^{\\ast}(\\mathbf{w}) &=& \\frac{1}{2}\\sum_{n=1}^N \\left( y(x_n, \\mathbf{w}) - t_n \\right)^2 + \\frac{\\lambda}{2}\\left\\| \\mathbf{w} \\right\\|^2_2\\\\\n",
    "&=& \\frac{1}{2}\\left(\\mathbf{w}^T\\mathbf{X}^T - \\mathbf{t}^T\\right)\\left(\\mathbf{w}^T\\mathbf{X}^T - \\mathbf{t}^T\\right)^T + \\frac{\\lambda}{2}\\mathbf{w}^T\\mathbf{w}\n",
    "\\end{eqnarray}\n",
    "\\begin{eqnarray}\n",
    "& &\\frac{\\partial E^{\\ast}(\\mathbf{w})}{\\partial \\mathbf{w}} = 0 = \\mathbf{X}^T\\left(\\mathbf{w}^T\\mathbf{X}^T - \\mathbf{t}^T\\right)^T + \\frac{\\lambda}{2}2 \\mathbf{w}\\\\\n",
    "& & 0 = \\mathbf{X}^T\\mathbf{X}\\mathbf{w} - \\mathbf{X}^T\\mathbf{t} + \\lambda\\mathbf{w}\\\\\n",
    "& & \\mathbf{X}^T\\mathbf{t} = \\left(\\mathbf{X}^T\\mathbf{X} + \\lambda\\mathbf{I} \\right)\\mathbf{w}\\\\\n",
    "& & \\mathbf{w} = \\left(\\mathbf{X}^T\\mathbf{X} + \\lambda\\mathbf{I} \\right)^{-1}\\mathbf{X}^T\\mathbf{t}\n",
    "\\end{eqnarray}\n",
    "\n",
    "* The $l_2$ norm penalty is common (because it works so well mathematically with the least-squares error objective) and, so, has many names: shrinkage, ridge regression, weight decay\n",
    "\n",
    "* *So, what happens when $\\lambda$ is increased? decreased?  Can you think of a way to set $\\lambda$?*"
   ]
  },
  {
   "cell_type": "code",
   "execution_count": 11,
   "metadata": {},
   "outputs": [
    {
     "name": "stdout",
     "output_type": "stream",
     "text": [
      "[ 0.10831248 -0.06997854 -0.09185718 -0.07948706 -0.06249533 -0.04768573\n",
      " -0.03607344 -0.02727275 -0.02066899 -0.01571556]\n",
      "[ -0.13893459   8.7356836  -14.11897387  -7.20939606   2.22673801\n",
      "   6.86876028   6.85961447   3.83444722  -0.74317081  -5.86871605]\n"
     ]
    },
    {
     "data": {
      "image/png": "[encoded data removed]",
      "text/plain": [
       "<Figure size 432x288 with 1 Axes>"
      ]
     },
     "metadata": {
      "needs_background": "light"
     },
     "output_type": "display_data"
    }
   ],
   "source": [
    "def fitdataReg(x,t,M,la):\n",
    "\t'''fitdata(x,t,M): Fit a polynomial of order M to the data (x,t)'''\t\n",
    "\tX = np.array([x**m for m in range(M+1)]).T\n",
    "\tw = np.linalg.inv(X.T@X+(la*np.identity(M+1)))@X.T@t\n",
    "\treturn w\n",
    "\n",
    "fig = plt.figure();\n",
    "\n",
    "l = 0\n",
    "u = 1\n",
    "N = 10\n",
    "gVar = .25\n",
    "data_uniform  = np.array(generateUniformData(N, l, u, gVar)).T\n",
    "\n",
    "x = data_uniform[:,0]\n",
    "t = data_uniform[:,1]\n",
    "\n",
    "w = fitdataReg(x,t,9,10)\n",
    "print(w)\n",
    "x2 = np.arange(l,u,0.001)  #get equally spaced points in the xrange\n",
    "X = np.array([x3**m for m in range(w.size)]).T\n",
    "t2 = X@w #compute the predicted value\n",
    "\n",
    "w = fitdataReg(x,t,9,.001)\n",
    "print(w)\n",
    "x3 = np.arange(l,u,0.001)  #get equally spaced points in the xrange\n",
    "X = np.array([x3**m for m in range(w.size)]).T\n",
    "t3 = X@w #compute the predicted value\n",
    "\n",
    "plotData(x,t,x2,t2,x3,t3,['Training Data', 'Est. Polynomial NoReg', 'Est. Polynomial Reg']) \n"
   ]
  },
  {
   "cell_type": "markdown",
   "metadata": {},
   "source": [
    "# 2. Bayesian Interpretation of Regularization"
   ]
  },
  {
   "cell_type": "markdown",
   "metadata": {},
   "source": [
    "\n",
    "* We looked at the regularization term as a *penalty* term in the objective function.  There is another way to interpret the regularization term as well.  Specifically, there is a *Bayesian* interpretation. \n",
    "\n",
    "\\begin{eqnarray}\n",
    "\\min E^{\\ast}(\\mathbf{w}) &=& \\max -E^{\\ast}(\\mathbf{w})\\\\\n",
    "& =& \\max \\exp \\left\\{ -E^{\\ast}(\\mathbf{w})\\right\\}\\\\\n",
    "&=& \\max \\exp \\left\\{ -\\frac{1}{2}\\sum_{n=1}^N \\left( y(x_n, \\mathbf{w}) - t_n \\right)^2 - \\frac{\\lambda}{2}\\left\\| \\mathbf{w} \\right\\|^2_2 \\right\\}\\\\\n",
    "&=& \\max \\exp \\left\\{ -\\frac{1}{2}\\sum_{n=1}^N \\left( y(x_n, \\mathbf{w}) - t_n \\right)^2 \\right\\}\\exp\\left\\{-\\frac{1}{2}\\lambda\\left\\| \\mathbf{w} \\right\\|^2_2\\right\\}\\\\\n",
    "&=& \\max \\prod_{n=1}^N \\exp \\left\\{ -\\frac{1}{2} \\left( y(x_n, \\mathbf{w}) - t_n \\right)^2 \\right\\}\\exp\\left\\{-\\frac{1}{2}\\lambda\\left\\| \\mathbf{w} \\right\\|^2_2\\right\\}\n",
    "\\end{eqnarray}\n"
   ]
  },
  {
   "cell_type": "markdown",
   "metadata": {},
   "source": [
    "* So, this is a maximization of the *data likelihood* with a *prior*: $p(\\mathbf{X}|\\mathbf{w})p(\\mathbf{w})$\n"
   ]
  },
  {
   "cell_type": "markdown",
   "metadata": {},
   "source": [
    "## Method of Maximum Likelihood\n",
    "\n",
    "* A *data likelihood* is how likely the data is given the parameter set\n",
    "* So, if we want to maximize how likely the data is to have come from the model we fit, we should find the parameters that maximize the likelihood\n",
    "* A common trick of maximizing the likelihood is to maximize the log likelihood.  Often makes the math much easier.  *Why can we maximize the log likelihood instead of the likelihood and still get the same answer?*\n",
    "* Consider: $\\max \\ln \\exp \\left\\{ -\\frac{1}{2}\\left(y(x_n, \\mathbf{w}) - t_n\\right)^2\\right\\}$ We go back to our original objective. "
   ]
  },
  {
   "cell_type": "markdown",
   "metadata": {},
   "source": [
    "## Method of Maximum A Posteriori (MAP)\n",
    "\n",
    "* Bayes Rule: $p(Y|X) = \\frac{p(X|Y)p(Y)}{p(X)}$\n",
    "* Consider: $p(\\mathbf{w}|\\mathscr{D}) = \\frac{p(\\mathscr{D}|\\mathbf{w})p(\\mathbf{w})}{p(\\mathscr{D})}$, i.e., posterior $\\propto$ likelihood $\\times$ prior\n",
    "\n"
   ]
  }
 ],
 "metadata": {
  "kernelspec": {
   "display_name": "Python 3",
   "language": "python",
   "name": "python3"
  },
  "language_info": {
   "codemirror_mode": {
    "name": "ipython",
    "version": 3
   },
   "file_extension": ".py",
   "mimetype": "text/x-python",
   "name": "python",
   "nbconvert_exporter": "python",
   "pygments_lexer": "ipython3",
   "version": "3.7.3"
  }
 },
 "nbformat": 4,
 "nbformat_minor": 1
}
